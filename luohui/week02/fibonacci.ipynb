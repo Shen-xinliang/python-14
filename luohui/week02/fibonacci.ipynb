{
 "cells": [
  {
   "cell_type": "code",
   "execution_count": 52,
   "metadata": {},
   "outputs": [
    {
     "name": "stdout",
     "output_type": "stream",
     "text": [
      "4.15 µs ± 250 ns per loop (mean ± std. dev. of 7 runs, 100000 loops each)\n"
     ]
    }
   ],
   "source": [
    "%%timeit\n",
    "# The first method to print fabonacci sequence.\n",
    "first, second = 0, 1\n",
    "# print(first, second, end=' ')\n",
    "\n",
    "while 1:\n",
    "    result = first + second\n",
    "    first, second = second, result\n",
    "\n",
    "    if result > 10000000000:\n",
    "#         print()\n",
    "        break\n",
    "#     else:\n",
    "#         print(result, end=' ')"
   ]
  },
  {
   "cell_type": "code",
   "execution_count": 53,
   "metadata": {},
   "outputs": [
    {
     "name": "stdout",
     "output_type": "stream",
     "text": [
      "12.5 µs ± 230 ns per loop (mean ± std. dev. of 7 runs, 100000 loops each)\n"
     ]
    }
   ],
   "source": [
    "%%timeit\n",
    "# The second method to print fabonacci sequence.\n",
    "fib_list = [0, 1]\n",
    "index = 0\n",
    "while True:\n",
    "    new_number = fib_list[index] + fib_list[index + 1]\n",
    "    index += 1\n",
    "    if new_number > 10000000000:\n",
    "        break\n",
    "    else:\n",
    "        fib_list.append(new_number)\n",
    "\n",
    "# print(str(fib_list))"
   ]
  },
  {
   "cell_type": "code",
   "execution_count": null,
   "metadata": {},
   "outputs": [],
   "source": [
    "%%timeit\n",
    "from itertools import takewhile, islice\n",
    "\n",
    "# fabonacci sequence with generator.\n",
    "def fabonacci():\n",
    "    x, y = 0, 1\n",
    "    while True:\n",
    "        yield x\n",
    "        x, y = y, x + y\n",
    "\n",
    "num = 10000000000\n",
    "\n",
    "# num以内的波斐那契数列\n",
    "list(takewhile(lambda x: x < num, fabonacci()))\n",
    "\n",
    "# 第一个大于num的波斐那契数\n",
    "next(filter(lambda x: x > num, fabonacci()))\n",
    "\n",
    "# 第num+1个波斐那契数，0开始\n",
    "next(islice(fabonacci(), num, None))\n"
   ]
  },
  {
   "cell_type": "code",
   "execution_count": null,
   "metadata": {},
   "outputs": [],
   "source": []
  }
 ],
 "metadata": {
  "kernelspec": {
   "display_name": "Python 3",
   "language": "python",
   "name": "python3"
  },
  "language_info": {
   "codemirror_mode": {
    "name": "ipython",
    "version": 3
   },
   "file_extension": ".py",
   "mimetype": "text/x-python",
   "name": "python",
   "nbconvert_exporter": "python",
   "pygments_lexer": "ipython3",
   "version": "3.7.0"
  }
 },
 "nbformat": 4,
 "nbformat_minor": 2
}
